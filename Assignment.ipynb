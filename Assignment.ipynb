{
 "cells": [
  {
   "cell_type": "code",
   "execution_count": 1,
   "id": "58b2c87e-8841-4ab9-9cfa-376fb5822c0c",
   "metadata": {},
   "outputs": [
    {
     "name": "stdout",
     "output_type": "stream",
     "text": [
      "x = 56\n",
      "y = 78\n"
     ]
    }
   ],
   "source": [
    "#TOPIC: Python Basics Variable\n",
    "\n",
    "\n",
    "#1. Declare two variables, `x` and `y`, and assign them integer values. Swap the values of these variables without using any temporary variable.\n",
    "\n",
    "x= 78\n",
    "y= 56\n",
    "x, y = y, x\n",
    "print(\"x =\", x)\n",
    "print(\"y =\", y)"
   ]
  },
  {
   "cell_type": "code",
   "execution_count": 2,
   "id": "a0cc9f73-dd1e-4301-a549-7552345516ec",
   "metadata": {},
   "outputs": [
    {
     "name": "stdin",
     "output_type": "stream",
     "text": [
      "enter a value 45\n",
      "enter a value 45\n"
     ]
    },
    {
     "name": "stdout",
     "output_type": "stream",
     "text": [
      "2025.0\n"
     ]
    }
   ],
   "source": [
    "#2. Create a program that calculates the area of a rectangle. Take the length and width as inputs from the user and store them in variables. Calculate and display the area.\n",
    "\n",
    "Length= float(input(\"enter a value\"))\n",
    "Width= float(input(\"enter a value\"))\n",
    "area = Length* Width\n",
    "print(area)"
   ]
  },
  {
   "cell_type": "code",
   "execution_count": 3,
   "id": "b07e4089-c38d-432a-b6fa-ea15a390f62d",
   "metadata": {},
   "outputs": [
    {
     "name": "stdin",
     "output_type": "stream",
     "text": [
      " 78\n"
     ]
    },
    {
     "name": "stdout",
     "output_type": "stream",
     "text": [
      "172.4\n"
     ]
    }
   ],
   "source": [
    "\"\"\"3. Write a Python program that converts temperatures from Celsius to\n",
    "Fahrenheit. Take the temperature in Celsius as input, store it in a variable,\n",
    "convert it to Fahrenheit, and display the result.\"\"\"\n",
    "\n",
    "C = float(input()) #C = temperature in celcius\n",
    "F = C*9/5 + 32    #F= temperature in fahrenheit\n",
    "print(F)"
   ]
  },
  {
   "cell_type": "code",
   "execution_count": 4,
   "id": "bbcde962-9237-4a83-82dc-c0554d8c0f90",
   "metadata": {},
   "outputs": [
    {
     "name": "stdin",
     "output_type": "stream",
     "text": [
      "enter a string Pwskills\n"
     ]
    },
    {
     "name": "stdout",
     "output_type": "stream",
     "text": [
      "8\n"
     ]
    }
   ],
   "source": [
    "#TOPIC: String Based Questions\n",
    "\n",
    "#1. Write a Python program that takes a string as input and prints the length of the string.\n",
    "\n",
    "S = input(\"enter a string\")\n",
    "print(len(S))"
   ]
  },
  {
   "cell_type": "code",
   "execution_count": 5,
   "id": "a236e1c4-d828-4460-844f-bac50181a8b4",
   "metadata": {},
   "outputs": [
    {
     "name": "stdin",
     "output_type": "stream",
     "text": [
      "Enter a sentence:  I have a motorbike\n"
     ]
    },
    {
     "name": "stdout",
     "output_type": "stream",
     "text": [
      "Number of vowels: 8\n"
     ]
    }
   ],
   "source": [
    "#Create a program that takes a sentence from the user and counts the number of vowels (a, e, i, o, u) in the string.\n",
    "\n",
    "\n",
    "S1 = input(\"Enter a sentence: \")\n",
    "\n",
    "\n",
    "vowel_count = 0\n",
    "\n",
    "\n",
    "for char in S1:\n",
    "    \n",
    "    char_lower = char.lower()\n",
    "\n",
    "    \n",
    "    if char_lower in \"aeiou\":\n",
    "        \n",
    "        vowel_count += 1\n",
    "        \n",
    "print(\"Number of vowels:\", vowel_count)"
   ]
  },
  {
   "cell_type": "code",
   "execution_count": 6,
   "id": "ec19e064-4f75-445b-8d01-1234541ba80d",
   "metadata": {},
   "outputs": [
    {
     "name": "stdin",
     "output_type": "stream",
     "text": [
      "enter a string Shivasuva\n"
     ]
    },
    {
     "name": "stdout",
     "output_type": "stream",
     "text": [
      "avusavihS\n"
     ]
    }
   ],
   "source": [
    "#Given a string, reverse the order of characters using string slicing and print the reversed string.\n",
    "\n",
    "S2 = input(\"enter a string\")\n",
    "\n",
    "S3 = S2[::-1]\n",
    "print(S3)"
   ]
  },
  {
   "cell_type": "code",
   "execution_count": 7,
   "id": "d18d7c79-1fe3-430e-be2e-43535c35e49a",
   "metadata": {},
   "outputs": [
    {
     "name": "stdin",
     "output_type": "stream",
     "text": [
      "Enter a string:  Rudranath\n"
     ]
    },
    {
     "name": "stdout",
     "output_type": "stream",
     "text": [
      "The input string is not a palindrome.\n"
     ]
    }
   ],
   "source": [
    "#4. Write a program that takes a string as input and checks if it is a palindrome (reads the same forwards and backwards).\n",
    "\n",
    "\n",
    "S4 = input(\"Enter a string: \")\n",
    "S5 = S4.replace(\" \", \"\").lower()\n",
    "RS = S5[::-1]\n",
    "if S5 == RS:\n",
    "    print(\"The input string is a palindrome.\")\n",
    "else:\n",
    "    print(\"The input string is not a palindrome.\")"
   ]
  },
  {
   "cell_type": "code",
   "execution_count": 9,
   "id": "0ae197bb-8aa9-4485-9aed-36e9cdfa2344",
   "metadata": {},
   "outputs": [
    {
     "name": "stdin",
     "output_type": "stream",
     "text": [
      "Enter a string:  thats a new car\n"
     ]
    },
    {
     "name": "stdout",
     "output_type": "stream",
     "text": [
      "Modified string without spaces: thatsanewcar\n"
     ]
    }
   ],
   "source": [
    "\"\"\"5. Create a program that takes a string as input and removes all the spaces from \n",
    "it. Print the modified string without spaces.\"\"\"\n",
    "\n",
    "#answer\n",
    "S6 = input(\"Enter a string: \")\n",
    "new_string = \"\"\n",
    "for char in S6:\n",
    "    if char != \" \":\n",
    "        new_string += char\n",
    "print(\"Modified string without spaces:\", new_string)"
   ]
  }
 ],
 "metadata": {
  "kernelspec": {
   "display_name": "Python 3 (ipykernel)",
   "language": "python",
   "name": "python3"
  },
  "language_info": {
   "codemirror_mode": {
    "name": "ipython",
    "version": 3
   },
   "file_extension": ".py",
   "mimetype": "text/x-python",
   "name": "python",
   "nbconvert_exporter": "python",
   "pygments_lexer": "ipython3",
   "version": "3.10.8"
  }
 },
 "nbformat": 4,
 "nbformat_minor": 5
}
